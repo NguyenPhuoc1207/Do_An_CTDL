{
 "cells": [
  {
   "cell_type": "code",
   "execution_count": 1,
   "id": "c73753c3",
   "metadata": {},
   "outputs": [
    {
     "name": "stdout",
     "output_type": "stream",
     "text": [
      "Chuyển đĩa 1 từ vị trí A đến vị trí C\n",
      "Chuyển đĩa 2 tự vị trí A đến vị trí B\n",
      "Chuyển đĩa 1 từ vị trí C đến vị trí B\n",
      "Chuyển đĩa 3 tự vị trí A đến vị trí C\n",
      "Chuyển đĩa 1 từ vị trí B đến vị trí A\n",
      "Chuyển đĩa 2 tự vị trí B đến vị trí C\n",
      "Chuyển đĩa 1 từ vị trí A đến vị trí C\n",
      "Chuyển đĩa 4 tự vị trí A đến vị trí B\n",
      "Chuyển đĩa 1 từ vị trí C đến vị trí B\n",
      "Chuyển đĩa 2 tự vị trí C đến vị trí A\n",
      "Chuyển đĩa 1 từ vị trí B đến vị trí A\n",
      "Chuyển đĩa 3 tự vị trí C đến vị trí B\n",
      "Chuyển đĩa 1 từ vị trí A đến vị trí C\n",
      "Chuyển đĩa 2 tự vị trí A đến vị trí B\n",
      "Chuyển đĩa 1 từ vị trí C đến vị trí B\n"
     ]
    }
   ],
   "source": [
    "def Thaphanoi(n , vt1, vt2, a): \n",
    "    if n==1: \n",
    "        print (\"Chuyển đĩa 1 từ vị trí\",vt1,\"đến vị trí\",vt2 )\n",
    "        return\n",
    "    Thaphanoi(n-1, vt1, a, vt2) \n",
    "    print (\"Chuyển đĩa\",n,\"tự vị trí\",vt1,\"đến vị trí\",vt2 )\n",
    "    Thaphanoi(n-1, a, vt2, vt1) \n",
    "          \n",
    "\n",
    "n = 4\n",
    "Thaphanoi(n,'A','B','C')"
   ]
  },
  {
   "cell_type": "code",
   "execution_count": null,
   "id": "99964af0",
   "metadata": {},
   "outputs": [],
   "source": []
  }
 ],
 "metadata": {
  "kernelspec": {
   "display_name": "Python 3",
   "language": "python",
   "name": "python3"
  },
  "language_info": {
   "codemirror_mode": {
    "name": "ipython",
    "version": 3
   },
   "file_extension": ".py",
   "mimetype": "text/x-python",
   "name": "python",
   "nbconvert_exporter": "python",
   "pygments_lexer": "ipython3",
   "version": "3.9.5"
  }
 },
 "nbformat": 4,
 "nbformat_minor": 5
}
