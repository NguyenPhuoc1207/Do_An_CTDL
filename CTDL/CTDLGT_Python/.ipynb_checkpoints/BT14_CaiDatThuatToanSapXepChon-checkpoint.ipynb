{
 "cells": [
  {
   "cell_type": "code",
   "execution_count": 2,
   "id": "a755a8ba",
   "metadata": {},
   "outputs": [
    {
     "name": "stdout",
     "output_type": "stream",
     "text": [
      "[3, 8, 11, 12, 20]\n"
     ]
    }
   ],
   "source": [
    "def selection_sort(nums):  \n",
    "    for i in range(len(nums)):\n",
    "        lowest_value_index = i\n",
    "        for j in range(i + 1, len(nums)):\n",
    "            if nums[j] < nums[lowest_value_index]:\n",
    "                lowest_value_index = j\n",
    "        nums[i], nums[lowest_value_index] = nums[lowest_value_index], nums[i]\n",
    "\n",
    "\n",
    "random_list_of_nums = [12, 8, 3, 20, 11]  \n",
    "selection_sort(random_list_of_nums)  \n",
    "print(random_list_of_nums)  "
   ]
  }
 ],
 "metadata": {
  "kernelspec": {
   "display_name": "Python 3",
   "language": "python",
   "name": "python3"
  },
  "language_info": {
   "codemirror_mode": {
    "name": "ipython",
    "version": 3
   },
   "file_extension": ".py",
   "mimetype": "text/x-python",
   "name": "python",
   "nbconvert_exporter": "python",
   "pygments_lexer": "ipython3",
   "version": "3.9.5"
  }
 },
 "nbformat": 4,
 "nbformat_minor": 5
}
