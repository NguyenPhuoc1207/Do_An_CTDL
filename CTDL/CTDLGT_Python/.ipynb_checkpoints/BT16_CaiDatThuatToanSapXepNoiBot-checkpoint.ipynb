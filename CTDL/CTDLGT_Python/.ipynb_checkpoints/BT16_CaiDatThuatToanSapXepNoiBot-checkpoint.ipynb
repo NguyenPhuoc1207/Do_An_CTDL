{
 "cells": [
  {
   "cell_type": "code",
   "execution_count": 1,
   "id": "0ea74e46",
   "metadata": {},
   "outputs": [
    {
     "name": "stdout",
     "output_type": "stream",
     "text": [
      "[1, 2, 25, 34, 45]\n"
     ]
    }
   ],
   "source": [
    "def bubble_sort(nums):  \n",
    "    swapped = True\n",
    "    while swapped:\n",
    "        swapped = False\n",
    "        for i in range(len(nums) - 1):\n",
    "            if nums[i] > nums[i + 1]:\n",
    "                nums[i], nums[i + 1] = nums[i + 1], nums[i]\n",
    "                swapped = True\n",
    "\n",
    "\n",
    "random_list_of_nums = [25, 2, 45, 1, 34]  \n",
    "bubble_sort(random_list_of_nums)  \n",
    "print(random_list_of_nums) "
   ]
  }
 ],
 "metadata": {
  "kernelspec": {
   "display_name": "Python 3",
   "language": "python",
   "name": "python3"
  },
  "language_info": {
   "codemirror_mode": {
    "name": "ipython",
    "version": 3
   },
   "file_extension": ".py",
   "mimetype": "text/x-python",
   "name": "python",
   "nbconvert_exporter": "python",
   "pygments_lexer": "ipython3",
   "version": "3.9.5"
  }
 },
 "nbformat": 4,
 "nbformat_minor": 5
}
