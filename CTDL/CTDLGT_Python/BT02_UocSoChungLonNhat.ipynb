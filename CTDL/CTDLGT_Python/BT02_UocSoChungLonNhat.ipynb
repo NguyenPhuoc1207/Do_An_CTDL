{
 "cells": [
  {
   "cell_type": "code",
   "execution_count": 1,
   "id": "ec872122",
   "metadata": {},
   "outputs": [
    {
     "name": "stdout",
     "output_type": "stream",
     "text": [
      "Số dương thứ nhất: 5\n",
      "Số dương thứ hai: 3\n",
      "Ước số chung lớn nhất của 5 và 3 là: 1\n"
     ]
    }
   ],
   "source": [
    "def uscln(a, b):\n",
    "    if (b == 0):\n",
    "        return a\n",
    "    return uscln(b, a % b)\n",
    "\n",
    "a = int(input(\"Số dương thứ nhất: \"))\n",
    "b = int(input(\"Số dương thứ hai: \"))\n",
    "\n",
    "print(\"Ước số chung lớn nhất của\", a, \"và\", b, \"là:\", uscln(a, b))"
   ]
  },
  {
   "cell_type": "code",
   "execution_count": null,
   "id": "95fdbe6e",
   "metadata": {},
   "outputs": [],
   "source": []
  }
 ],
 "metadata": {
  "kernelspec": {
   "display_name": "Python 3",
   "language": "python",
   "name": "python3"
  },
  "language_info": {
   "codemirror_mode": {
    "name": "ipython",
    "version": 3
   },
   "file_extension": ".py",
   "mimetype": "text/x-python",
   "name": "python",
   "nbconvert_exporter": "python",
   "pygments_lexer": "ipython3",
   "version": "3.9.5"
  }
 },
 "nbformat": 4,
 "nbformat_minor": 5
}
