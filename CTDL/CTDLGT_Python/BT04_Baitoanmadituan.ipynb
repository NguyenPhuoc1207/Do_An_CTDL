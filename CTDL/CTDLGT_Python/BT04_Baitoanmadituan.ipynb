{
 "cells": [
  {
   "cell_type": "markdown",
   "metadata": {
    "colab_type": "text",
    "id": "view-in-github"
   },
   "source": [
    "<a href=\"https://colab.research.google.com/github/ntdthanh1409/cau-truc/blob/main/BT04.ipynb\" target=\"_parent\"><img src=\"https://colab.research.google.com/assets/colab-badge.svg\" alt=\"Open In Colab\"/></a>"
   ]
  },
  {
   "cell_type": "markdown",
   "metadata": {
    "id": "4yo0QP4tvx2Z"
   },
   "source": [
    "# Mã đi tuần\n"
   ]
  },
  {
   "cell_type": "code",
   "execution_count": null,
   "metadata": {
    "colab": {
     "base_uri": "https://localhost:8080/"
    },
    "id": "MWKdfQWsvl5Z",
    "outputId": "f18e7ec2-3049-48dc-de47-47ab69bf41e9"
   },
   "outputs": [
    {
     "name": "stdout",
     "output_type": "stream",
     "text": [
      "0 37 30 7 18 35 14 \n",
      "31 28 19 36 15 6 17 \n",
      "38 1 32 29 8 13 34 \n",
      "27 24 39 20 33 16 5 \n",
      "40 21 2 25 44 9 12 \n",
      "23 26 47 42 11 4 45 \n",
      "48 41 22 3 46 43 10 \n"
     ]
    }
   ],
   "source": [
    "n=7\n",
    "def isSafe(x, y, board):\n",
    "    if(x >= 0 and y >= 0 and x < n and y < n and board[x][y] == -1):\n",
    "        return True\n",
    "    return False\n",
    " \n",
    " \n",
    "def printSolution(n, board):\n",
    "    for i in range(n):\n",
    "        for j in range(n):\n",
    "            print(board[i][j], end=' ')\n",
    "        print()\n",
    " \n",
    " \n",
    "def solveKT(n):\n",
    "    board = [[-1 for i in range(n)]for i in range(n)]\n",
    "    move_x = [2, 1, -1, -2, -2, -1, 1, 2]\n",
    "    move_y = [1, 2, 2, 1, -1, -2, -2, -1]\n",
    "    board[0][0] = 0\n",
    "    pos = 1\n",
    "    if(not solveKTUtil(n, board, 0, 0, move_x, move_y, pos)):\n",
    "        print(\"Solution does not exist\")\n",
    "    else:\n",
    "        printSolution(n, board)\n",
    " \n",
    " \n",
    "def solveKTUtil(n, board, curr_x, curr_y, move_x, move_y, pos):\n",
    "    if(pos == n**2):\n",
    "        return True\n",
    "    for i in range(8):\n",
    "        new_x = curr_x + move_x[i]\n",
    "        new_y = curr_y + move_y[i]\n",
    "        if(isSafe(new_x, new_y, board)):\n",
    "            board[new_x][new_y] = pos\n",
    "            if(solveKTUtil(n, board, new_x, new_y, move_x, move_y, pos+1)):\n",
    "                return True\n",
    "            board[new_x][new_y] = -1\n",
    "    return False\n",
    " \n",
    " \n",
    "solveKT(n)"
   ]
  }
 ],
 "metadata": {
  "colab": {
   "include_colab_link": true,
   "name": "BT04.ipynb",
   "provenance": []
  },
  "kernelspec": {
   "display_name": "Python 3",
   "language": "python",
   "name": "python3"
  },
  "language_info": {
   "codemirror_mode": {
    "name": "ipython",
    "version": 3
   },
   "file_extension": ".py",
   "mimetype": "text/x-python",
   "name": "python",
   "nbconvert_exporter": "python",
   "pygments_lexer": "ipython3",
   "version": "3.9.5"
  }
 },
 "nbformat": 4,
 "nbformat_minor": 1
}
